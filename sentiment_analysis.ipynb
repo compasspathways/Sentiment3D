{
 "cells": [
  {
   "cell_type": "markdown",
   "id": "6a860b9b-4f24-4b30-9a31-0f74d711001d",
   "metadata": {},
   "source": [
    "### Imports, constants and functions"
   ]
  },
  {
   "cell_type": "code",
   "execution_count": null,
   "id": "98133717-235c-4da7-88c5-998700abbf21",
   "metadata": {
    "tags": []
   },
   "outputs": [],
   "source": [
    "import os, sys\n",
    "import pandas as pd\n",
    "import numpy as np\n",
    "import json\n",
    "import re\n",
    "from scipy import stats\n",
    "from typing import List\n",
    "from sentiment3d import Sentiment3D\n",
    "from utils import load_wan_ratings, get_reliable_words, sentiment_from_logits, df_corr, get_corr, get_stats, separate_utterances\n",
    "from plotting import plotly_setting, plot_heatmap, plot_combined_distributions, plot_timeseries\n",
    "\n",
    "plotly_setting()\n",
    "\n",
    "pd.set_option(\"display.max_rows\", 200)\n",
    "pd.set_option(\"display.max_colwidth\", 1000)\n",
    "\n",
    "BASEDIR = './'\n",
    "FIGDIR = f'{BASEDIR}/figures'\n",
    "os.makedirs(FIGDIR, exist_ok=True)\n",
    "print(f'BASEDIR for data, figures, and tables: {BASEDIR}')"
   ]
  },
  {
   "cell_type": "code",
   "execution_count": null,
   "id": "98ea66e9-474f-4f0c-89a4-a1ee7b830a2d",
   "metadata": {
    "tags": []
   },
   "outputs": [],
   "source": [
    "SENTCOLS = [\"valence\", \"arousal\", \"confidence\"]\n",
    "STDCOLS = [f\"{c}_std\" for c in SENTCOLS]\n",
    "\n",
    "COLMAP = {\n",
    "    \"valence_nrc\": \"Valence NRC\",\n",
    "    \"arousal_nrc\": \"Arousal NRC\",\n",
    "    \"confidence_nrc\": \"Confidence NRC\",\n",
    "    \"valence_warriner\": \"Valence Warr\",\n",
    "    \"arousal_warriner\": \"Arousal Warr\",\n",
    "    \"confidence_warriner\": \"Confidence Warr\",\n",
    "    \"valence_anew\": \"Valence ANEW\",\n",
    "    \"arousal_anew\": \"Arousal ANEW\",\n",
    "    \"confidence_anew\": \"Confidence ANEW\",\n",
    "    \"valence\": \"Valence VAC\",\n",
    "    \"arousal\": \"Arousal VAC\",\n",
    "    \"confidence\": \"Confidence VAC\",\n",
    "    \"valence\": \"Valence\",\n",
    "    \"arousal\": \"Arousal\",\n",
    "    \"confidence\": \"Confidence\",\n",
    "}\n",
    "\n",
    "def map_cols(df):\n",
    "    df.columns = [c.replace(\"dominance\", \"confidence\") for c in df.columns]\n",
    "    cols = [c for c in COLMAP.keys() if c in df.columns]\n",
    "    df = df[cols].rename(columns=COLMAP)\n",
    "    return df"
   ]
  },
  {
   "cell_type": "markdown",
   "id": "8fe3d4f7-1d34-45ac-b96f-8abee5a66432",
   "metadata": {},
   "source": [
    "## Load human rating data"
   ]
  },
  {
   "cell_type": "code",
   "execution_count": null,
   "id": "da0bf17f-6c5e-4587-b4a4-9ea3e11e2b95",
   "metadata": {
    "tags": []
   },
   "outputs": [],
   "source": [
    "hdf = load_wan_ratings()\n",
    "hdf.head(2)"
   ]
  },
  {
   "cell_type": "code",
   "execution_count": null,
   "id": "9726a45f-3c75-49a2-8ee0-c0a1c44a4635",
   "metadata": {
    "tags": []
   },
   "outputs": [],
   "source": [
    "reldf, extras = get_reliable_words()\n",
    "reldf.head(2)"
   ]
  },
  {
   "cell_type": "markdown",
   "id": "d3d52386-cc13-4cf8-971b-0e8b3c169c37",
   "metadata": {},
   "source": [
    "## Create subsets of rating data\n",
    "\n",
    "* wdf is the full set of NRC/Warriner ratings in wide format\n",
    "* rwdf is the set of reliable words used for training\n",
    "* swdf is the smaller set of ratings where NRC, Warriner and ANEW overlap"
   ]
  },
  {
   "cell_type": "code",
   "execution_count": null,
   "id": "1f1eeb82-f4f1-4b74-a523-4a914f893b7e",
   "metadata": {
    "tags": []
   },
   "outputs": [],
   "source": [
    "wdf = hdf.loc[hdf.source != \"anew\"].pivot(index=\"word\", columns=\"source\").copy()\n",
    "wdf.columns = [\"_\".join(c) for c in wdf.columns]\n",
    "wdf = wdf.loc[:, [c for c in wdf.columns if \"std\" not in c]]\n",
    "wdf.dropna(inplace=True)\n",
    "wdf = map_cols(wdf)"
   ]
  },
  {
   "cell_type": "code",
   "execution_count": null,
   "id": "85c816e2-0379-4cd6-ab9a-f7949484619b",
   "metadata": {
    "tags": []
   },
   "outputs": [],
   "source": [
    "rwdf = reldf.loc[:, [c for c in reldf.columns if \"std\" not in c]].copy()\n",
    "rwdf = map_cols(rwdf)\n",
    "\n",
    "swdf = hdf.pivot(index=\"word\", columns=\"source\").copy()\n",
    "swdf.columns = [\"_\".join(c) for c in swdf.columns]\n",
    "swdf = swdf.loc[:, [c for c in swdf.columns if \"std\" not in c]]\n",
    "swdf.dropna(inplace=True)\n",
    "swdf = map_cols(swdf)"
   ]
  },
  {
   "cell_type": "markdown",
   "id": "9bb27576-cffb-47c8-bd77-da0aa5ffd408",
   "metadata": {},
   "source": [
    "## Load sentiment model"
   ]
  },
  {
   "cell_type": "code",
   "execution_count": null,
   "id": "12cc32ac-64b2-4ed7-9833-c3f5ca3529c7",
   "metadata": {
    "tags": []
   },
   "outputs": [],
   "source": [
    "with open(\"anchor_spec.json\") as fp:\n",
    "    model = json.load(fp)"
   ]
  },
  {
   "cell_type": "code",
   "execution_count": null,
   "id": "7f571d11-cd37-4d77-8c78-40b5d8debcd9",
   "metadata": {
    "tags": []
   },
   "outputs": [],
   "source": [
    "model"
   ]
  },
  {
   "cell_type": "markdown",
   "id": "60283ed2-de77-4492-b6e5-f85c5260e05e",
   "metadata": {},
   "source": [
    "# Run model on human data"
   ]
  },
  {
   "cell_type": "markdown",
   "id": "cd70afaf-51fc-447d-9665-1bab58e72b67",
   "metadata": {},
   "source": [
    "## Heatmap for all wordstmpdf"
   ]
  },
  {
   "cell_type": "code",
   "execution_count": null,
   "id": "86019657-6fad-4f9b-a20f-efa3b7747fa1",
   "metadata": {
    "tags": []
   },
   "outputs": [],
   "source": [
    "cols = [\"NRC\", \"Warr\"]\n",
    "sentdf, anchors = sentiment_from_logits(model, wdf.index)\n",
    "sentdf.columns = [c.capitalize() + \" VAC\" for c in sentdf.columns]\n",
    "tmpdf = wdf.join(sentdf)\n",
    "tmpdf = tmpdf[\n",
    "    [\n",
    "        \"Valence NRC\",\n",
    "        \"Valence Warr\",\n",
    "        \"Valence VAC\",\n",
    "        \"Arousal NRC\",\n",
    "        \"Arousal Warr\",\n",
    "        \"Arousal VAC\",\n",
    "        \"Confidence NRC\",\n",
    "        \"Confidence Warr\",\n",
    "        \"Confidence VAC\",\n",
    "    ]\n",
    "]\n",
    "map_cols(tmpdf)\n",
    "stat_rdf, stat_pdf, n, all_stats = get_stats(tmpdf, cols)\n",
    "\n",
    "r, p, ndf = df_corr(tmpdf)\n",
    "n = np.nanmin(ndf)\n",
    "fig = plot_heatmap(r, font_sz=16, size=(700, 700))\n",
    "fig.write_image(f\"{FIGDIR}/vac_heatmap_wn_{n}.svg\") \n",
    "fig"
   ]
  },
  {
   "cell_type": "markdown",
   "id": "3d05face-feee-4604-ada2-08069a83f785",
   "metadata": {},
   "source": [
    "## Heatmap for 1023 WAN words"
   ]
  },
  {
   "cell_type": "code",
   "execution_count": null,
   "id": "6e2bbc4f-ae71-463e-bd3c-9faf59616a84",
   "metadata": {
    "tags": []
   },
   "outputs": [],
   "source": [
    "sentdf, anchors = sentiment_from_logits(model, swdf.index)\n",
    "sentdf.columns = [c.capitalize() + \" VAC\" for c in sentdf.columns]\n",
    "tmpdf = swdf.join(sentdf)\n",
    "tmpdf = tmpdf[\n",
    "    [\n",
    "        \"Valence NRC\",\n",
    "        \"Valence Warr\",\n",
    "        \"Valence ANEW\",\n",
    "        \"Valence VAC\",\n",
    "        \"Arousal NRC\",\n",
    "        \"Arousal Warr\",\n",
    "        \"Arousal ANEW\",\n",
    "        \"Arousal VAC\",\n",
    "        \"Confidence NRC\",\n",
    "        \"Confidence Warr\",\n",
    "        \"Confidence ANEW\",\n",
    "        \"Confidence VAC\",\n",
    "    ]\n",
    "]\n",
    "map_cols(tmpdf)\n",
    "r, p, ndf = df_corr(tmpdf)\n",
    "n = np.nanmin(ndf)\n",
    "\n",
    "fig = plot_heatmap(r, font_sz=16, size=(800, 850),blocksize=4)\n",
    "fig.write_image(f\"{FIGDIR}/vac_heatmap_wan_{n}.svg\") \n",
    "fig"
   ]
  },
  {
   "cell_type": "markdown",
   "id": "627ad619-4ac0-4ed3-8cfc-ec5c17126a04",
   "metadata": {},
   "source": [
    "## Carl Roger and Gloria therapy session"
   ]
  },
  {
   "cell_type": "code",
   "execution_count": null,
   "id": "e90f404a-75a4-477f-bf29-acb1042e85ba",
   "metadata": {
    "tags": []
   },
   "outputs": [],
   "source": [
    "carl_gloria_df = pd.read_csv(\"data/carl_and_gloria.csv\", sep=\"\\t\", index_col=0,)"
   ]
  },
  {
   "cell_type": "code",
   "execution_count": null,
   "id": "18fe5252-8d7b-4539-aec1-e0e5a2751c12",
   "metadata": {
    "tags": []
   },
   "outputs": [],
   "source": [
    "carl_gloria_df.head()"
   ]
  },
  {
   "cell_type": "code",
   "execution_count": null,
   "id": "92e4ec88-0118-4862-bb4a-9070d4f519ce",
   "metadata": {
    "tags": []
   },
   "outputs": [],
   "source": [
    "utterance_df = separate_utterances(carl_gloria_df)\n",
    "utterance_df.head()"
   ]
  },
  {
   "cell_type": "code",
   "execution_count": null,
   "id": "7ad0057c-3820-407f-92ce-04ee4742e31b",
   "metadata": {
    "tags": []
   },
   "outputs": [],
   "source": [
    "s3 = Sentiment3D()\n",
    "sentiment_dict = s3(utterance_df[\"utterance\"].to_list())"
   ]
  },
  {
   "cell_type": "code",
   "execution_count": null,
   "id": "de65313d-b4bf-4b0f-8285-4dcd67cf71ae",
   "metadata": {
    "tags": []
   },
   "outputs": [],
   "source": [
    "utt_res = pd.json_normalize(sentiment_dict, max_level=2)\n",
    "utterance_df = utterance_df.merge(utt_res, left_index=True, right_index=True, validate=\"1:1\")"
   ]
  },
  {
   "cell_type": "code",
   "execution_count": null,
   "id": "6a7dfbca-7330-42cb-8917-4eca12caf137",
   "metadata": {
    "tags": []
   },
   "outputs": [],
   "source": [
    "utterance_df.head()"
   ]
  },
  {
   "cell_type": "code",
   "execution_count": null,
   "id": "f8f218d9-dbb0-4dd4-9ed4-22d20b4685c2",
   "metadata": {
    "tags": []
   },
   "outputs": [],
   "source": [
    "therapist_df = utterance_df[utterance_df['speaker']=='Therapist']\n",
    "patient_df = utterance_df[utterance_df['speaker']=='Patient']\n",
    "therapist_df.reset_index(drop=True, inplace=True)\n",
    "patient_df.reset_index(drop=True, inplace=True)\n",
    "\n",
    "fig = plot_combined_distributions(sample1=therapist_df, sample2=patient_df, xlabels=['valence', 'arousal', 'confidence'], group_labels=['Therapist', 'Patient'])\n",
    "fig.write_image(f\"{FIGDIR}/carl_roger_combined_distributions.svg\")\n",
    "fig.show()"
   ]
  },
  {
   "cell_type": "code",
   "execution_count": null,
   "id": "a566da69-0844-4e1b-9125-13cce3dbb9d3",
   "metadata": {
    "tags": []
   },
   "outputs": [],
   "source": [
    "# group by speaker and aggregate using mean\n",
    "utterance_gr = (\n",
    "    utterance_df.groupby(\n",
    "        (utterance_df[\"speaker\"] != utterance_df[\"speaker\"].shift()).cumsum()\n",
    "    )\n",
    "    .agg(\n",
    "        {\n",
    "            \"speaker\": \"first\",\n",
    "            \"utterance\": \" \".join,\n",
    "            \"valence\": \"mean\",\n",
    "            \"arousal\": \"mean\",\n",
    "            \"confidence\": \"mean\",\n",
    "        }\n",
    "    )\n",
    "    .reset_index(drop=True)\n",
    ")"
   ]
  },
  {
   "cell_type": "code",
   "execution_count": null,
   "id": "d4aced72-7e95-463e-a848-e9ddebdf3800",
   "metadata": {
    "tags": []
   },
   "outputs": [],
   "source": [
    "therapist_df = utterance_gr[(utterance_gr[\"speaker\"] == \"Therapist\")]\n",
    "patient_df = utterance_gr[(utterance_gr[\"speaker\"] == \"Patient\")]\n",
    "\n",
    "therapist_df.reset_index(drop=True, inplace=True)\n",
    "patient_df.reset_index(drop=True, inplace=True)"
   ]
  },
  {
   "cell_type": "code",
   "execution_count": null,
   "id": "6e78447b-ad04-4ddd-9de0-4ad5402c7199",
   "metadata": {
    "tags": []
   },
   "outputs": [],
   "source": [
    "span_n = 3\n",
    "\n",
    "samples1 = [\n",
    "    [therapist_df.index, therapist_df[\"valence\"].ewm(span=span_n).mean()],\n",
    "    [therapist_df.index, therapist_df[\"arousal\"].ewm(span=span_n).mean()],\n",
    "    [therapist_df.index, therapist_df[\"confidence\"].ewm(span=span_n).mean()],\n",
    "]\n",
    "samples2 = [\n",
    "    [patient_df.index, patient_df[\"valence\"].ewm(span=span_n).mean()],\n",
    "    [patient_df.index, patient_df[\"arousal\"].ewm(span=span_n).mean()],\n",
    "    [patient_df.index, patient_df[\"confidence\"].ewm(span=span_n).mean()],\n",
    "]"
   ]
  },
  {
   "cell_type": "code",
   "execution_count": null,
   "id": "7d2ee63f-df29-4fbd-87da-0fdedda3e5d5",
   "metadata": {
    "tags": []
   },
   "outputs": [],
   "source": [
    "fig = plot_timeseries(samples1, samples2, xlabels=[\"valence\", \"arousal\", \"confidence\"], group_labels=[\"Therapist\", \"Patient\"])\n",
    "fig.write_image(f\"{FIGDIR}/carl_roger_combined_timeseries.svg\")\n",
    "fig"
   ]
  },
  {
   "cell_type": "code",
   "execution_count": null,
   "id": "525de833-ed93-442c-b734-942d60eabeaf",
   "metadata": {},
   "outputs": [],
   "source": []
  }
 ],
 "metadata": {
  "availableInstances": [
   {
    "_defaultOrder": 0,
    "_isFastLaunch": true,
    "category": "General purpose",
    "gpuNum": 0,
    "hideHardwareSpecs": false,
    "memoryGiB": 4,
    "name": "ml.t3.medium",
    "vcpuNum": 2
   },
   {
    "_defaultOrder": 1,
    "_isFastLaunch": false,
    "category": "General purpose",
    "gpuNum": 0,
    "hideHardwareSpecs": false,
    "memoryGiB": 8,
    "name": "ml.t3.large",
    "vcpuNum": 2
   },
   {
    "_defaultOrder": 2,
    "_isFastLaunch": false,
    "category": "General purpose",
    "gpuNum": 0,
    "hideHardwareSpecs": false,
    "memoryGiB": 16,
    "name": "ml.t3.xlarge",
    "vcpuNum": 4
   },
   {
    "_defaultOrder": 3,
    "_isFastLaunch": false,
    "category": "General purpose",
    "gpuNum": 0,
    "hideHardwareSpecs": false,
    "memoryGiB": 32,
    "name": "ml.t3.2xlarge",
    "vcpuNum": 8
   },
   {
    "_defaultOrder": 4,
    "_isFastLaunch": true,
    "category": "General purpose",
    "gpuNum": 0,
    "hideHardwareSpecs": false,
    "memoryGiB": 8,
    "name": "ml.m5.large",
    "vcpuNum": 2
   },
   {
    "_defaultOrder": 5,
    "_isFastLaunch": false,
    "category": "General purpose",
    "gpuNum": 0,
    "hideHardwareSpecs": false,
    "memoryGiB": 16,
    "name": "ml.m5.xlarge",
    "vcpuNum": 4
   },
   {
    "_defaultOrder": 6,
    "_isFastLaunch": false,
    "category": "General purpose",
    "gpuNum": 0,
    "hideHardwareSpecs": false,
    "memoryGiB": 32,
    "name": "ml.m5.2xlarge",
    "vcpuNum": 8
   },
   {
    "_defaultOrder": 7,
    "_isFastLaunch": false,
    "category": "General purpose",
    "gpuNum": 0,
    "hideHardwareSpecs": false,
    "memoryGiB": 64,
    "name": "ml.m5.4xlarge",
    "vcpuNum": 16
   },
   {
    "_defaultOrder": 8,
    "_isFastLaunch": false,
    "category": "General purpose",
    "gpuNum": 0,
    "hideHardwareSpecs": false,
    "memoryGiB": 128,
    "name": "ml.m5.8xlarge",
    "vcpuNum": 32
   },
   {
    "_defaultOrder": 9,
    "_isFastLaunch": false,
    "category": "General purpose",
    "gpuNum": 0,
    "hideHardwareSpecs": false,
    "memoryGiB": 192,
    "name": "ml.m5.12xlarge",
    "vcpuNum": 48
   },
   {
    "_defaultOrder": 10,
    "_isFastLaunch": false,
    "category": "General purpose",
    "gpuNum": 0,
    "hideHardwareSpecs": false,
    "memoryGiB": 256,
    "name": "ml.m5.16xlarge",
    "vcpuNum": 64
   },
   {
    "_defaultOrder": 11,
    "_isFastLaunch": false,
    "category": "General purpose",
    "gpuNum": 0,
    "hideHardwareSpecs": false,
    "memoryGiB": 384,
    "name": "ml.m5.24xlarge",
    "vcpuNum": 96
   },
   {
    "_defaultOrder": 12,
    "_isFastLaunch": false,
    "category": "General purpose",
    "gpuNum": 0,
    "hideHardwareSpecs": false,
    "memoryGiB": 8,
    "name": "ml.m5d.large",
    "vcpuNum": 2
   },
   {
    "_defaultOrder": 13,
    "_isFastLaunch": false,
    "category": "General purpose",
    "gpuNum": 0,
    "hideHardwareSpecs": false,
    "memoryGiB": 16,
    "name": "ml.m5d.xlarge",
    "vcpuNum": 4
   },
   {
    "_defaultOrder": 14,
    "_isFastLaunch": false,
    "category": "General purpose",
    "gpuNum": 0,
    "hideHardwareSpecs": false,
    "memoryGiB": 32,
    "name": "ml.m5d.2xlarge",
    "vcpuNum": 8
   },
   {
    "_defaultOrder": 15,
    "_isFastLaunch": false,
    "category": "General purpose",
    "gpuNum": 0,
    "hideHardwareSpecs": false,
    "memoryGiB": 64,
    "name": "ml.m5d.4xlarge",
    "vcpuNum": 16
   },
   {
    "_defaultOrder": 16,
    "_isFastLaunch": false,
    "category": "General purpose",
    "gpuNum": 0,
    "hideHardwareSpecs": false,
    "memoryGiB": 128,
    "name": "ml.m5d.8xlarge",
    "vcpuNum": 32
   },
   {
    "_defaultOrder": 17,
    "_isFastLaunch": false,
    "category": "General purpose",
    "gpuNum": 0,
    "hideHardwareSpecs": false,
    "memoryGiB": 192,
    "name": "ml.m5d.12xlarge",
    "vcpuNum": 48
   },
   {
    "_defaultOrder": 18,
    "_isFastLaunch": false,
    "category": "General purpose",
    "gpuNum": 0,
    "hideHardwareSpecs": false,
    "memoryGiB": 256,
    "name": "ml.m5d.16xlarge",
    "vcpuNum": 64
   },
   {
    "_defaultOrder": 19,
    "_isFastLaunch": false,
    "category": "General purpose",
    "gpuNum": 0,
    "hideHardwareSpecs": false,
    "memoryGiB": 384,
    "name": "ml.m5d.24xlarge",
    "vcpuNum": 96
   },
   {
    "_defaultOrder": 20,
    "_isFastLaunch": false,
    "category": "General purpose",
    "gpuNum": 0,
    "hideHardwareSpecs": true,
    "memoryGiB": 0,
    "name": "ml.geospatial.interactive",
    "supportedImageNames": [
     "sagemaker-geospatial-v1-0"
    ],
    "vcpuNum": 0
   },
   {
    "_defaultOrder": 21,
    "_isFastLaunch": true,
    "category": "Compute optimized",
    "gpuNum": 0,
    "hideHardwareSpecs": false,
    "memoryGiB": 4,
    "name": "ml.c5.large",
    "vcpuNum": 2
   },
   {
    "_defaultOrder": 22,
    "_isFastLaunch": false,
    "category": "Compute optimized",
    "gpuNum": 0,
    "hideHardwareSpecs": false,
    "memoryGiB": 8,
    "name": "ml.c5.xlarge",
    "vcpuNum": 4
   },
   {
    "_defaultOrder": 23,
    "_isFastLaunch": false,
    "category": "Compute optimized",
    "gpuNum": 0,
    "hideHardwareSpecs": false,
    "memoryGiB": 16,
    "name": "ml.c5.2xlarge",
    "vcpuNum": 8
   },
   {
    "_defaultOrder": 24,
    "_isFastLaunch": false,
    "category": "Compute optimized",
    "gpuNum": 0,
    "hideHardwareSpecs": false,
    "memoryGiB": 32,
    "name": "ml.c5.4xlarge",
    "vcpuNum": 16
   },
   {
    "_defaultOrder": 25,
    "_isFastLaunch": false,
    "category": "Compute optimized",
    "gpuNum": 0,
    "hideHardwareSpecs": false,
    "memoryGiB": 72,
    "name": "ml.c5.9xlarge",
    "vcpuNum": 36
   },
   {
    "_defaultOrder": 26,
    "_isFastLaunch": false,
    "category": "Compute optimized",
    "gpuNum": 0,
    "hideHardwareSpecs": false,
    "memoryGiB": 96,
    "name": "ml.c5.12xlarge",
    "vcpuNum": 48
   },
   {
    "_defaultOrder": 27,
    "_isFastLaunch": false,
    "category": "Compute optimized",
    "gpuNum": 0,
    "hideHardwareSpecs": false,
    "memoryGiB": 144,
    "name": "ml.c5.18xlarge",
    "vcpuNum": 72
   },
   {
    "_defaultOrder": 28,
    "_isFastLaunch": false,
    "category": "Compute optimized",
    "gpuNum": 0,
    "hideHardwareSpecs": false,
    "memoryGiB": 192,
    "name": "ml.c5.24xlarge",
    "vcpuNum": 96
   },
   {
    "_defaultOrder": 29,
    "_isFastLaunch": true,
    "category": "Accelerated computing",
    "gpuNum": 1,
    "hideHardwareSpecs": false,
    "memoryGiB": 16,
    "name": "ml.g4dn.xlarge",
    "vcpuNum": 4
   },
   {
    "_defaultOrder": 30,
    "_isFastLaunch": false,
    "category": "Accelerated computing",
    "gpuNum": 1,
    "hideHardwareSpecs": false,
    "memoryGiB": 32,
    "name": "ml.g4dn.2xlarge",
    "vcpuNum": 8
   },
   {
    "_defaultOrder": 31,
    "_isFastLaunch": false,
    "category": "Accelerated computing",
    "gpuNum": 1,
    "hideHardwareSpecs": false,
    "memoryGiB": 64,
    "name": "ml.g4dn.4xlarge",
    "vcpuNum": 16
   },
   {
    "_defaultOrder": 32,
    "_isFastLaunch": false,
    "category": "Accelerated computing",
    "gpuNum": 1,
    "hideHardwareSpecs": false,
    "memoryGiB": 128,
    "name": "ml.g4dn.8xlarge",
    "vcpuNum": 32
   },
   {
    "_defaultOrder": 33,
    "_isFastLaunch": false,
    "category": "Accelerated computing",
    "gpuNum": 4,
    "hideHardwareSpecs": false,
    "memoryGiB": 192,
    "name": "ml.g4dn.12xlarge",
    "vcpuNum": 48
   },
   {
    "_defaultOrder": 34,
    "_isFastLaunch": false,
    "category": "Accelerated computing",
    "gpuNum": 1,
    "hideHardwareSpecs": false,
    "memoryGiB": 256,
    "name": "ml.g4dn.16xlarge",
    "vcpuNum": 64
   },
   {
    "_defaultOrder": 35,
    "_isFastLaunch": false,
    "category": "Accelerated computing",
    "gpuNum": 1,
    "hideHardwareSpecs": false,
    "memoryGiB": 61,
    "name": "ml.p3.2xlarge",
    "vcpuNum": 8
   },
   {
    "_defaultOrder": 36,
    "_isFastLaunch": false,
    "category": "Accelerated computing",
    "gpuNum": 4,
    "hideHardwareSpecs": false,
    "memoryGiB": 244,
    "name": "ml.p3.8xlarge",
    "vcpuNum": 32
   },
   {
    "_defaultOrder": 37,
    "_isFastLaunch": false,
    "category": "Accelerated computing",
    "gpuNum": 8,
    "hideHardwareSpecs": false,
    "memoryGiB": 488,
    "name": "ml.p3.16xlarge",
    "vcpuNum": 64
   },
   {
    "_defaultOrder": 38,
    "_isFastLaunch": false,
    "category": "Accelerated computing",
    "gpuNum": 8,
    "hideHardwareSpecs": false,
    "memoryGiB": 768,
    "name": "ml.p3dn.24xlarge",
    "vcpuNum": 96
   },
   {
    "_defaultOrder": 39,
    "_isFastLaunch": false,
    "category": "Memory Optimized",
    "gpuNum": 0,
    "hideHardwareSpecs": false,
    "memoryGiB": 16,
    "name": "ml.r5.large",
    "vcpuNum": 2
   },
   {
    "_defaultOrder": 40,
    "_isFastLaunch": false,
    "category": "Memory Optimized",
    "gpuNum": 0,
    "hideHardwareSpecs": false,
    "memoryGiB": 32,
    "name": "ml.r5.xlarge",
    "vcpuNum": 4
   },
   {
    "_defaultOrder": 41,
    "_isFastLaunch": false,
    "category": "Memory Optimized",
    "gpuNum": 0,
    "hideHardwareSpecs": false,
    "memoryGiB": 64,
    "name": "ml.r5.2xlarge",
    "vcpuNum": 8
   },
   {
    "_defaultOrder": 42,
    "_isFastLaunch": false,
    "category": "Memory Optimized",
    "gpuNum": 0,
    "hideHardwareSpecs": false,
    "memoryGiB": 128,
    "name": "ml.r5.4xlarge",
    "vcpuNum": 16
   },
   {
    "_defaultOrder": 43,
    "_isFastLaunch": false,
    "category": "Memory Optimized",
    "gpuNum": 0,
    "hideHardwareSpecs": false,
    "memoryGiB": 256,
    "name": "ml.r5.8xlarge",
    "vcpuNum": 32
   },
   {
    "_defaultOrder": 44,
    "_isFastLaunch": false,
    "category": "Memory Optimized",
    "gpuNum": 0,
    "hideHardwareSpecs": false,
    "memoryGiB": 384,
    "name": "ml.r5.12xlarge",
    "vcpuNum": 48
   },
   {
    "_defaultOrder": 45,
    "_isFastLaunch": false,
    "category": "Memory Optimized",
    "gpuNum": 0,
    "hideHardwareSpecs": false,
    "memoryGiB": 512,
    "name": "ml.r5.16xlarge",
    "vcpuNum": 64
   },
   {
    "_defaultOrder": 46,
    "_isFastLaunch": false,
    "category": "Memory Optimized",
    "gpuNum": 0,
    "hideHardwareSpecs": false,
    "memoryGiB": 768,
    "name": "ml.r5.24xlarge",
    "vcpuNum": 96
   },
   {
    "_defaultOrder": 47,
    "_isFastLaunch": false,
    "category": "Accelerated computing",
    "gpuNum": 1,
    "hideHardwareSpecs": false,
    "memoryGiB": 16,
    "name": "ml.g5.xlarge",
    "vcpuNum": 4
   },
   {
    "_defaultOrder": 48,
    "_isFastLaunch": false,
    "category": "Accelerated computing",
    "gpuNum": 1,
    "hideHardwareSpecs": false,
    "memoryGiB": 32,
    "name": "ml.g5.2xlarge",
    "vcpuNum": 8
   },
   {
    "_defaultOrder": 49,
    "_isFastLaunch": false,
    "category": "Accelerated computing",
    "gpuNum": 1,
    "hideHardwareSpecs": false,
    "memoryGiB": 64,
    "name": "ml.g5.4xlarge",
    "vcpuNum": 16
   },
   {
    "_defaultOrder": 50,
    "_isFastLaunch": false,
    "category": "Accelerated computing",
    "gpuNum": 1,
    "hideHardwareSpecs": false,
    "memoryGiB": 128,
    "name": "ml.g5.8xlarge",
    "vcpuNum": 32
   },
   {
    "_defaultOrder": 51,
    "_isFastLaunch": false,
    "category": "Accelerated computing",
    "gpuNum": 1,
    "hideHardwareSpecs": false,
    "memoryGiB": 256,
    "name": "ml.g5.16xlarge",
    "vcpuNum": 64
   },
   {
    "_defaultOrder": 52,
    "_isFastLaunch": false,
    "category": "Accelerated computing",
    "gpuNum": 4,
    "hideHardwareSpecs": false,
    "memoryGiB": 192,
    "name": "ml.g5.12xlarge",
    "vcpuNum": 48
   },
   {
    "_defaultOrder": 53,
    "_isFastLaunch": false,
    "category": "Accelerated computing",
    "gpuNum": 4,
    "hideHardwareSpecs": false,
    "memoryGiB": 384,
    "name": "ml.g5.24xlarge",
    "vcpuNum": 96
   },
   {
    "_defaultOrder": 54,
    "_isFastLaunch": false,
    "category": "Accelerated computing",
    "gpuNum": 8,
    "hideHardwareSpecs": false,
    "memoryGiB": 768,
    "name": "ml.g5.48xlarge",
    "vcpuNum": 192
   }
  ],
  "instance_type": "ml.g4dn.xlarge",
  "kernelspec": {
   "display_name": "Python 3 (Data Science)",
   "language": "python",
   "name": "python3__SAGEMAKER_INTERNAL__arn:aws:sagemaker:eu-west-2:712779665605:image/datascience-1.0"
  },
  "language_info": {
   "codemirror_mode": {
    "name": "ipython",
    "version": 3
   },
   "file_extension": ".py",
   "mimetype": "text/x-python",
   "name": "python",
   "nbconvert_exporter": "python",
   "pygments_lexer": "ipython3",
   "version": "3.7.10"
  }
 },
 "nbformat": 4,
 "nbformat_minor": 5
}
