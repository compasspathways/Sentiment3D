{
 "cells": [
  {
   "cell_type": "code",
   "execution_count": null,
   "id": "dfc9935e-74e5-4495-a100-76cd65792475",
   "metadata": {},
   "outputs": [],
   "source": [
    "import time\n",
    "import pandas as pd\n",
    "import plotly.express as px\n",
    "from sentiment3d import Sentiment3D\n",
    "\n",
    "from utils import separate_utterances\n",
    "\n",
    "s3d = Sentiment3D()"
   ]
  },
  {
   "cell_type": "markdown",
   "id": "4c7a1cc3-987d-43dd-b54e-6fbe42602d9d",
   "metadata": {},
   "source": [
    "## Compute VAC sentiment for a string\n",
    "\n",
    "Change txt to whatever you like to see the sentiment scores. Computing sentiment for a single string should be fast, even without GPU acceleration."
   ]
  },
  {
   "cell_type": "code",
   "execution_count": null,
   "id": "f96b1256-87b7-4843-842b-0c7217036500",
   "metadata": {},
   "outputs": [],
   "source": [
    "txt = \"Heal yourself, with beautiful love, and always remember... you are the medicine.\"\n",
    "s3d.get_utterance_sentiment(txt)"
   ]
  },
  {
   "cell_type": "markdown",
   "id": "9e2e06a6-c543-4390-9f79-6746f6bbae9e",
   "metadata": {},
   "source": [
    "## 3D Sentiment Plot\n",
    "\n",
    "Next we'll try something more ambitious by computing the VAC sentiment scores for an entire therapy session and plot the resulting values in a 3d figure. Note that computing the sentiment values for every utterance in the session may take 10-20 minutes if you don't have GPU acceleration."
   ]
  },
  {
   "cell_type": "code",
   "execution_count": null,
   "id": "4374c82f-9d9f-4cdc-89a0-ae70aaa38c8e",
   "metadata": {},
   "outputs": [],
   "source": [
    "tmp_df = pd.read_csv(\"./data/carl_and_gloria.csv\", sep=\"\\t\", index_col=0)\n",
    "utterance_df = separate_utterances(tmp_df)\n",
    "utterance_df.head()"
   ]
  },
  {
   "cell_type": "code",
   "execution_count": null,
   "id": "2fd57ed3-1d4d-488d-8963-166af4079a78",
   "metadata": {},
   "outputs": [],
   "source": [
    "start = time.time()\n",
    "utterances = utterance_df[\"utterance\"].to_list()\n",
    "sentiment_dict = s3d(utterances)\n",
    "print(f\"Computed sentiment for {len(utterances)} utterances in {(time.time()-start)/60:0.2f} minutes.\")"
   ]
  },
  {
   "cell_type": "code",
   "execution_count": null,
   "id": "95d41088-0d28-4d78-aa2b-18252bcf17ca",
   "metadata": {},
   "outputs": [],
   "source": [
    "utt_res = pd.json_normalize(sentiment_dict, max_level=2)\n",
    "sent_df = utterance_df.merge(utt_res, left_index=True, right_index=True, validate=\"1:1\")\n",
    "sent_df.head()"
   ]
  },
  {
   "cell_type": "code",
   "execution_count": null,
   "id": "7018a03b-c75b-465e-9ae2-2a17c695ce46",
   "metadata": {},
   "outputs": [],
   "source": [
    "FONT_COLOR = '#666666'\n",
    "FILL_COLOR = 'rgb(.7,.7,.7)'\n",
    "COLORS = ['rgba(62,148,204,127)', 'rgba(213,134,58,127)', 'rgba(126,154,102,127)']\n",
    "\n",
    "utt_av = sent_df.copy()\n",
    "speakers = utt_av.speaker.unique().tolist()\n",
    "utt_av['length'] = utt_av['utterance'].apply(lambda u: len(u.split()))\n",
    "utt_av['weight'] = utt_av['length'] / utt_av['length'].sum()\n",
    "\n",
    "utt_av['utterance'] = utt_av['utterance'].str.wrap(30)\n",
    "utt_av['utterance'] = utt_av['utterance'].apply(lambda x: x.replace('\\n', '<br>'))\n",
    "\n",
    "fig = px.scatter_3d(utt_av, x=\"valence\", y=\"arousal\", z=\"confidence\", \n",
    "                    opacity=0.5, color_discrete_sequence=COLORS,\n",
    "                    color=\"speaker\", \n",
    "                    size=\"length\", \n",
    "                    hover_data=[\"utterance\"],\n",
    "                   )\n",
    "\n",
    "ht = \"Therapist<br>VAC: %{x:.2f}, %{y:.2f}, %{z:.2f}<br>%{customdata[0]}<extra></extra>\"\n",
    "ax = dict(nticks=5, range=[-1.0, 1.0], spikecolor=\"rgba(.0,.0,.0,.3)\", spikethickness=2)\n",
    "fig.update_layout(plot_bgcolor='rgba(0,0,0,0)',\n",
    "                  width=600, height=600,\n",
    "                  margin=dict(r=0, l=0, b=0, t=0),\n",
    "                  scene_aspectmode='cube',\n",
    "                  scene = dict(xaxis=ax, yaxis=ax, zaxis=ax),\n",
    "                  #hovermode='x unified',\n",
    "                  hoverlabel=dict(\n",
    "                      bgcolor=\"rgba(.95,.95,.95,.1)\",\n",
    "                      bordercolor=\"rgba(.0,.0,.0,.2)\",\n",
    "                      font={\"color\": \"rgba(.0,.0,.0,.5)\", \"size\": 12},\n",
    "                      ),\n",
    "                  legend=dict(yanchor='top', y=0.9, xanchor='right', x=1, \n",
    "                                  bgcolor='rgba(1,1,1,0)', title='', font=dict(size=14)),\n",
    "                  )\n",
    "fig.update_traces(hovertemplate=ht)\n",
    "# To save a local interactive version of the plot uncomment the following (note: this will be a large file!):\n",
    "#fig.write_html(\"./cg_sentiment3d.html\")\n",
    "fig"
   ]
  }
 ],
 "metadata": {
  "kernelspec": {
   "display_name": "s3d_env",
   "language": "python",
   "name": "s3d_env"
  },
  "language_info": {
   "codemirror_mode": {
    "name": "ipython",
    "version": 3
   },
   "file_extension": ".py",
   "mimetype": "text/x-python",
   "name": "python",
   "nbconvert_exporter": "python",
   "pygments_lexer": "ipython3",
   "version": "3.11.4"
  }
 },
 "nbformat": 4,
 "nbformat_minor": 5
}
