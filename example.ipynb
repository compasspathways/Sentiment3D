{
 "cells": [
  {
   "cell_type": "code",
   "execution_count": null,
   "id": "98133717-235c-4da7-88c5-998700abbf21",
   "metadata": {},
   "outputs": [],
   "source": [
    "from sentiment3d import Sentiment3D\n",
    "\n",
    "s3d = Sentiment3D()"
   ]
  },
  {
   "cell_type": "code",
   "execution_count": null,
   "id": "5dd5eefa-c64c-4935-b580-7d5fd1e90d4d",
   "metadata": {},
   "outputs": [],
   "source": [
    "txt = \"Heal yourself, with beautiful love, and always remember... you are the medicine.\"\n",
    "s3d.get_utterance_sentiment(txt)"
   ]
  },
  {
   "cell_type": "code",
   "execution_count": null,
   "id": "24339450-317c-44ec-8c5d-c90cb18e5028",
   "metadata": {},
   "outputs": [],
   "source": []
  }
 ],
 "metadata": {
  "kernelspec": {
   "display_name": "Python 3 (ipykernel)",
   "language": "python",
   "name": "python3"
  },
  "language_info": {
   "codemirror_mode": {
    "name": "ipython",
    "version": 3
   },
   "file_extension": ".py",
   "mimetype": "text/x-python",
   "name": "python",
   "nbconvert_exporter": "python",
   "pygments_lexer": "ipython3",
   "version": "3.11.3"
  }
 },
 "nbformat": 4,
 "nbformat_minor": 5
}
